{
 "cells": [
  {
   "cell_type": "markdown",
   "metadata": {},
   "source": [
    "<style>\n",
    "    .zero-margin {\n",
    "        margin: 0 px;\n",
    "     }\n",
    "</style>\n",
    "\n",
    "<div class=\"zero-margin\" style=\"text-align: center;\">\n",
    "    <p style=\"text-align: center; font-size: 30px; margin-bottom: 15px;\">Recommendation System Exercise<p>\n",
    "    <p  style=\"text-align: center; margin-bottom: 0px;\">Friday, November 15th 2019</p>\n",
    "     <p  style=\"text-align: center; margin-top: 0px;\">Herdis Haerussalam & Haries Ramdhani</p>\n",
    "</div>"
   ]
  },
  {
   "cell_type": "markdown",
   "metadata": {},
   "source": [
    "### Introduction"
   ]
  },
  {
   "cell_type": "markdown",
   "metadata": {},
   "source": [
    "For the purpose of this exercise, we're trying to implement recommendation systems. The recommendation systems that we tried to implement are as follows:\n",
    "1. **Apriori Algorithm** (Association Rules)  \n",
    "Apriori is an algorithm for frequent item set mining and association rule learning over relational databases. It proceeds by identifying the frequent individual items in the database and extending them to larger and larger item sets as long as those item sets appear sufficiently often in the database.\n",
    "\n",
    "    For implementing this, we're using the bread basket dataset\n",
    "     <br/><br/>\n",
    "2. **Collaborative Filtering**  \n",
    "Collaborative filtering is a method of making automatic predictions (filtering) about the interests of a user by collecting preferences or taste information from many users (collaborating).\n",
    "\n",
    "    For implementing this, we're using the wine review dataset, consisting of 130k reviews\n",
    "     <br/><br/>\n",
    "3. **Content-based**  \n",
    "Content-based recommenders treat recommendation as a user-specific classification problem and learn a classifier for the user's likes and dislikes based on product features. In this system, keywords are used to describe the items and a user profile is built to indicate the type of item this user likes.\n",
    "\n",
    "    For implementing this, we're using the wine review dataset, consisting of 130k reviews\n",
    "    <br/><br/>\n",
    "4. **Hybrid Recommender System**\n",
    "Hybrid Recommender system is a combination of several recommender systems for this purpose the implemented Conten-based and Collaborative Filtering are used.\n",
    "\n",
    "    For implementing this, we're still using the wine review dataset, consisting of 130k reviews\n",
    "    <br/><br/>\n",
    "5. **Content-based (E-commerce Product)**  \n",
    "For implementing this, we're using the e-commerce product descriptions"
   ]
  },
  {
   "cell_type": "markdown",
   "metadata": {},
   "source": [
    "### Apriori Algorithm"
   ]
  },
  {
   "cell_type": "code",
   "execution_count": 61,
   "metadata": {
    "collapsed": true
   },
   "outputs": [],
   "source": [
    "# Import required library\n",
    "import pandas as pd\n",
    "from mlxtend.frequent_patterns import apriori,association_rules\n",
    "import matplotlib.pyplot as plt\n",
    "import seaborn as sns\n",
    "from collections import Counter\n",
    "from itertools import combinations, groupby\n",
    "import os"
   ]
  },
  {
   "cell_type": "code",
   "execution_count": 64,
   "metadata": {},
   "outputs": [
    {
     "data": {
      "text/html": [
       "<div>\n",
       "<style scoped>\n",
       "    .dataframe tbody tr th:only-of-type {\n",
       "        vertical-align: middle;\n",
       "    }\n",
       "\n",
       "    .dataframe tbody tr th {\n",
       "        vertical-align: top;\n",
       "    }\n",
       "\n",
       "    .dataframe thead th {\n",
       "        text-align: right;\n",
       "    }\n",
       "</style>\n",
       "<table border=\"1\" class=\"dataframe\">\n",
       "  <thead>\n",
       "    <tr style=\"text-align: right;\">\n",
       "      <th></th>\n",
       "      <th>Date</th>\n",
       "      <th>Time</th>\n",
       "      <th>Transaction</th>\n",
       "      <th>Item</th>\n",
       "    </tr>\n",
       "  </thead>\n",
       "  <tbody>\n",
       "    <tr>\n",
       "      <th>0</th>\n",
       "      <td>2016-10-30</td>\n",
       "      <td>09:58:11</td>\n",
       "      <td>1</td>\n",
       "      <td>Bread</td>\n",
       "    </tr>\n",
       "    <tr>\n",
       "      <th>1</th>\n",
       "      <td>2016-10-30</td>\n",
       "      <td>10:05:34</td>\n",
       "      <td>2</td>\n",
       "      <td>Scandinavian</td>\n",
       "    </tr>\n",
       "    <tr>\n",
       "      <th>2</th>\n",
       "      <td>2016-10-30</td>\n",
       "      <td>10:05:34</td>\n",
       "      <td>2</td>\n",
       "      <td>Scandinavian</td>\n",
       "    </tr>\n",
       "    <tr>\n",
       "      <th>3</th>\n",
       "      <td>2016-10-30</td>\n",
       "      <td>10:07:57</td>\n",
       "      <td>3</td>\n",
       "      <td>Hot chocolate</td>\n",
       "    </tr>\n",
       "    <tr>\n",
       "      <th>4</th>\n",
       "      <td>2016-10-30</td>\n",
       "      <td>10:07:57</td>\n",
       "      <td>3</td>\n",
       "      <td>Jam</td>\n",
       "    </tr>\n",
       "  </tbody>\n",
       "</table>\n",
       "</div>"
      ],
      "text/plain": [
       "         Date      Time  Transaction           Item\n",
       "0  2016-10-30  09:58:11            1          Bread\n",
       "1  2016-10-30  10:05:34            2   Scandinavian\n",
       "2  2016-10-30  10:05:34            2   Scandinavian\n",
       "3  2016-10-30  10:07:57            3  Hot chocolate\n",
       "4  2016-10-30  10:07:57            3            Jam"
      ]
     },
     "execution_count": 64,
     "metadata": {},
     "output_type": "execute_result"
    }
   ],
   "source": [
    "# load dataset\n",
    "df = pd.read_csv('data/BreadBasket_DMS.csv')\n",
    "df.head(5)"
   ]
  },
  {
   "cell_type": "code",
   "execution_count": 65,
   "metadata": {},
   "outputs": [
    {
     "data": {
      "text/plain": [
       "(21293, 4)"
      ]
     },
     "execution_count": 65,
     "metadata": {},
     "output_type": "execute_result"
    }
   ],
   "source": [
    "# looking for datashape\n",
    "df.shape"
   ]
  },
  {
   "cell_type": "code",
   "execution_count": 66,
   "metadata": {},
   "outputs": [
    {
     "data": {
      "image/png": "[encoded data removed]",
      "text/plain": [
       "<Figure size 864x432 with 1 Axes>"
      ]
     },
     "metadata": {},
     "output_type": "display_data"
    }
   ],
   "source": [
    "# what the interesting things from data\n",
    "items = df['Item'].value_counts().index\n",
    "item_frequency = df['Item'].value_counts().values\n",
    "\n",
    "plt.figure(figsize=(12,6))\n",
    "plt.xlabel('Items', fontsize='15')\n",
    "plt.ylabel('Frequency', fontsize='15')\n",
    "plt.title('Top 5 Selling Items', fontsize='15')\n",
    "plt.bar(items[:5],item_frequency[:5], width = 0.7, color=\"tab:blue\",linewidth=0.4)\n",
    "plt.show()"
   ]
  },
  {
   "cell_type": "markdown",
   "metadata": {},
   "source": [
    "It seems like coffee are the most frequent in dataset."
   ]
  },
  {
   "cell_type": "code",
   "execution_count": 67,
   "metadata": {
    "collapsed": true
   },
   "outputs": [],
   "source": [
    "df2 = df.groupby(['Transaction','Item']).size().reset_index(name='count')\n",
    "basket = (df2.groupby(['Transaction', 'Item'])['count']\n",
    "          .sum().unstack().reset_index().fillna(0)\n",
    "          .set_index('Transaction'))\n",
    "#The encoding function\n",
    "def encode_units(x):\n",
    "    if x <= 0:\n",
    "        return 0\n",
    "    if x >= 1:\n",
    "        return 1\n",
    "basket_sets = basket.applymap(encode_units)"
   ]
  },
  {
   "cell_type": "code",
   "execution_count": 68,
   "metadata": {},
   "outputs": [
    {
     "data": {
      "text/html": [
       "<div>\n",
       "<style scoped>\n",
       "    .dataframe tbody tr th:only-of-type {\n",
       "        vertical-align: middle;\n",
       "    }\n",
       "\n",
       "    .dataframe tbody tr th {\n",
       "        vertical-align: top;\n",
       "    }\n",
       "\n",
       "    .dataframe thead th {\n",
       "        text-align: right;\n",
       "    }\n",
       "</style>\n",
       "<table border=\"1\" class=\"dataframe\">\n",
       "  <thead>\n",
       "    <tr style=\"text-align: right;\">\n",
       "      <th></th>\n",
       "      <th>antecedents</th>\n",
       "      <th>consequents</th>\n",
       "      <th>antecedent support</th>\n",
       "      <th>consequent support</th>\n",
       "      <th>support</th>\n",
       "      <th>confidence</th>\n",
       "      <th>lift</th>\n",
       "      <th>leverage</th>\n",
       "      <th>conviction</th>\n",
       "    </tr>\n",
       "  </thead>\n",
       "  <tbody>\n",
       "    <tr>\n",
       "      <th>44</th>\n",
       "      <td>(Toast)</td>\n",
       "      <td>(Coffee)</td>\n",
       "      <td>0.033365</td>\n",
       "      <td>0.475081</td>\n",
       "      <td>0.023502</td>\n",
       "      <td>0.704403</td>\n",
       "      <td>1.482699</td>\n",
       "      <td>0.007651</td>\n",
       "      <td>1.775789</td>\n",
       "    </tr>\n",
       "    <tr>\n",
       "      <th>43</th>\n",
       "      <td>(Spanish Brunch)</td>\n",
       "      <td>(Coffee)</td>\n",
       "      <td>0.018046</td>\n",
       "      <td>0.475081</td>\n",
       "      <td>0.010807</td>\n",
       "      <td>0.598837</td>\n",
       "      <td>1.260494</td>\n",
       "      <td>0.002233</td>\n",
       "      <td>1.308493</td>\n",
       "    </tr>\n",
       "    <tr>\n",
       "      <th>29</th>\n",
       "      <td>(Medialuna)</td>\n",
       "      <td>(Coffee)</td>\n",
       "      <td>0.061379</td>\n",
       "      <td>0.475081</td>\n",
       "      <td>0.034939</td>\n",
       "      <td>0.569231</td>\n",
       "      <td>1.198175</td>\n",
       "      <td>0.005779</td>\n",
       "      <td>1.218561</td>\n",
       "    </tr>\n",
       "    <tr>\n",
       "      <th>34</th>\n",
       "      <td>(Pastry)</td>\n",
       "      <td>(Coffee)</td>\n",
       "      <td>0.085510</td>\n",
       "      <td>0.475081</td>\n",
       "      <td>0.047214</td>\n",
       "      <td>0.552147</td>\n",
       "      <td>1.162216</td>\n",
       "      <td>0.006590</td>\n",
       "      <td>1.172079</td>\n",
       "    </tr>\n",
       "    <tr>\n",
       "      <th>2</th>\n",
       "      <td>(Alfajores)</td>\n",
       "      <td>(Coffee)</td>\n",
       "      <td>0.036093</td>\n",
       "      <td>0.475081</td>\n",
       "      <td>0.019515</td>\n",
       "      <td>0.540698</td>\n",
       "      <td>1.138116</td>\n",
       "      <td>0.002368</td>\n",
       "      <td>1.142861</td>\n",
       "    </tr>\n",
       "    <tr>\n",
       "      <th>27</th>\n",
       "      <td>(Juice)</td>\n",
       "      <td>(Coffee)</td>\n",
       "      <td>0.038296</td>\n",
       "      <td>0.475081</td>\n",
       "      <td>0.020460</td>\n",
       "      <td>0.534247</td>\n",
       "      <td>1.124537</td>\n",
       "      <td>0.002266</td>\n",
       "      <td>1.127031</td>\n",
       "    </tr>\n",
       "    <tr>\n",
       "      <th>32</th>\n",
       "      <td>(NONE)</td>\n",
       "      <td>(Coffee)</td>\n",
       "      <td>0.079005</td>\n",
       "      <td>0.475081</td>\n",
       "      <td>0.042073</td>\n",
       "      <td>0.532537</td>\n",
       "      <td>1.120938</td>\n",
       "      <td>0.004539</td>\n",
       "      <td>1.122908</td>\n",
       "    </tr>\n",
       "    <tr>\n",
       "      <th>36</th>\n",
       "      <td>(Sandwich)</td>\n",
       "      <td>(Coffee)</td>\n",
       "      <td>0.071346</td>\n",
       "      <td>0.475081</td>\n",
       "      <td>0.037981</td>\n",
       "      <td>0.532353</td>\n",
       "      <td>1.120551</td>\n",
       "      <td>0.004086</td>\n",
       "      <td>1.122468</td>\n",
       "    </tr>\n",
       "    <tr>\n",
       "      <th>16</th>\n",
       "      <td>(Cake)</td>\n",
       "      <td>(Coffee)</td>\n",
       "      <td>0.103137</td>\n",
       "      <td>0.475081</td>\n",
       "      <td>0.054349</td>\n",
       "      <td>0.526958</td>\n",
       "      <td>1.109196</td>\n",
       "      <td>0.005350</td>\n",
       "      <td>1.109667</td>\n",
       "    </tr>\n",
       "    <tr>\n",
       "      <th>38</th>\n",
       "      <td>(Scone)</td>\n",
       "      <td>(Coffee)</td>\n",
       "      <td>0.034309</td>\n",
       "      <td>0.475081</td>\n",
       "      <td>0.017941</td>\n",
       "      <td>0.522936</td>\n",
       "      <td>1.100729</td>\n",
       "      <td>0.001642</td>\n",
       "      <td>1.100310</td>\n",
       "    </tr>\n",
       "  </tbody>\n",
       "</table>\n",
       "</div>"
      ],
      "text/plain": [
       "         antecedents consequents  antecedent support  consequent support  \\\n",
       "44           (Toast)    (Coffee)            0.033365            0.475081   \n",
       "43  (Spanish Brunch)    (Coffee)            0.018046            0.475081   \n",
       "29       (Medialuna)    (Coffee)            0.061379            0.475081   \n",
       "34          (Pastry)    (Coffee)            0.085510            0.475081   \n",
       "2        (Alfajores)    (Coffee)            0.036093            0.475081   \n",
       "27           (Juice)    (Coffee)            0.038296            0.475081   \n",
       "32            (NONE)    (Coffee)            0.079005            0.475081   \n",
       "36        (Sandwich)    (Coffee)            0.071346            0.475081   \n",
       "16            (Cake)    (Coffee)            0.103137            0.475081   \n",
       "38           (Scone)    (Coffee)            0.034309            0.475081   \n",
       "\n",
       "     support  confidence      lift  leverage  conviction  \n",
       "44  0.023502    0.704403  1.482699  0.007651    1.775789  \n",
       "43  0.010807    0.598837  1.260494  0.002233    1.308493  \n",
       "29  0.034939    0.569231  1.198175  0.005779    1.218561  \n",
       "34  0.047214    0.552147  1.162216  0.006590    1.172079  \n",
       "2   0.019515    0.540698  1.138116  0.002368    1.142861  \n",
       "27  0.020460    0.534247  1.124537  0.002266    1.127031  \n",
       "32  0.042073    0.532537  1.120938  0.004539    1.122908  \n",
       "36  0.037981    0.532353  1.120551  0.004086    1.122468  \n",
       "16  0.054349    0.526958  1.109196  0.005350    1.109667  \n",
       "38  0.017941    0.522936  1.100729  0.001642    1.100310  "
      ]
     },
     "execution_count": 68,
     "metadata": {},
     "output_type": "execute_result"
    }
   ],
   "source": [
    "frequent_itemsets = apriori(basket_sets, min_support=0.01, use_colnames=True)\n",
    "rules = association_rules(frequent_itemsets, metric=\"lift\")\n",
    "rules.sort_values('confidence', ascending = False, inplace = True)\n",
    "rules.head(10)"
   ]
  },
  {
   "cell_type": "markdown",
   "metadata": {},
   "source": [
    "From the data frame above we can see that the highest lift is obtained by the toast and the coffee with a lift score of 1.48, followed by spanish brunch and coffee. The assumption for toast and coffee is the fact that both of em are probably consumed in the morning together."
   ]
  },
  {
   "cell_type": "markdown",
   "metadata": {},
   "source": [
    "### Collaborative Filtering, Content-Based and Hybrid Recommender System"
   ]
  },
  {
   "cell_type": "code",
   "execution_count": 3,
   "metadata": {},
   "outputs": [],
   "source": [
    "# Load the essential \n",
    "import numpy as np\n",
    "import pandas as pd \n",
    "\n",
    "# Load the library for the recommendation system\n",
    "import surprise as sp"
   ]
  },
  {
   "cell_type": "markdown",
   "metadata": {},
   "source": [
    "#### Data Preparation"
   ]
  },
  {
   "cell_type": "code",
   "execution_count": 4,
   "metadata": {
    "collapsed": true
   },
   "outputs": [],
   "source": [
    "df = pd.read_csv(\"data/wine.csv\")"
   ]
  },
  {
   "cell_type": "code",
   "execution_count": 5,
   "metadata": {},
   "outputs": [
    {
     "data": {
      "text/html": [
       "<div>\n",
       "<style scoped>\n",
       "    .dataframe tbody tr th:only-of-type {\n",
       "        vertical-align: middle;\n",
       "    }\n",
       "\n",
       "    .dataframe tbody tr th {\n",
       "        vertical-align: top;\n",
       "    }\n",
       "\n",
       "    .dataframe thead th {\n",
       "        text-align: right;\n",
       "    }\n",
       "</style>\n",
       "<table border=\"1\" class=\"dataframe\">\n",
       "  <thead>\n",
       "    <tr style=\"text-align: right;\">\n",
       "      <th></th>\n",
       "      <th>Unnamed: 0</th>\n",
       "      <th>country</th>\n",
       "      <th>description</th>\n",
       "      <th>designation</th>\n",
       "      <th>points</th>\n",
       "      <th>price</th>\n",
       "      <th>province</th>\n",
       "      <th>region_1</th>\n",
       "      <th>region_2</th>\n",
       "      <th>taster_name</th>\n",
       "      <th>taster_twitter_handle</th>\n",
       "      <th>title</th>\n",
       "      <th>variety</th>\n",
       "      <th>winery</th>\n",
       "    </tr>\n",
       "  </thead>\n",
       "  <tbody>\n",
       "    <tr>\n",
       "      <th>0</th>\n",
       "      <td>0</td>\n",
       "      <td>Italy</td>\n",
       "      <td>Aromas include tropical fruit, broom, brimston...</td>\n",
       "      <td>Vulkà Bianco</td>\n",
       "      <td>87</td>\n",
       "      <td>NaN</td>\n",
       "      <td>Sicily &amp; Sardinia</td>\n",
       "      <td>Etna</td>\n",
       "      <td>NaN</td>\n",
       "      <td>Kerin O’Keefe</td>\n",
       "      <td>@kerinokeefe</td>\n",
       "      <td>Nicosia 2013 Vulkà Bianco  (Etna)</td>\n",
       "      <td>White Blend</td>\n",
       "      <td>Nicosia</td>\n",
       "    </tr>\n",
       "    <tr>\n",
       "      <th>1</th>\n",
       "      <td>1</td>\n",
       "      <td>Portugal</td>\n",
       "      <td>This is ripe and fruity, a wine that is smooth...</td>\n",
       "      <td>Avidagos</td>\n",
       "      <td>87</td>\n",
       "      <td>15.0</td>\n",
       "      <td>Douro</td>\n",
       "      <td>NaN</td>\n",
       "      <td>NaN</td>\n",
       "      <td>Roger Voss</td>\n",
       "      <td>@vossroger</td>\n",
       "      <td>Quinta dos Avidagos 2011 Avidagos Red (Douro)</td>\n",
       "      <td>Portuguese Red</td>\n",
       "      <td>Quinta dos Avidagos</td>\n",
       "    </tr>\n",
       "    <tr>\n",
       "      <th>2</th>\n",
       "      <td>2</td>\n",
       "      <td>US</td>\n",
       "      <td>Tart and snappy, the flavors of lime flesh and...</td>\n",
       "      <td>NaN</td>\n",
       "      <td>87</td>\n",
       "      <td>14.0</td>\n",
       "      <td>Oregon</td>\n",
       "      <td>Willamette Valley</td>\n",
       "      <td>Willamette Valley</td>\n",
       "      <td>Paul Gregutt</td>\n",
       "      <td>@paulgwine</td>\n",
       "      <td>Rainstorm 2013 Pinot Gris (Willamette Valley)</td>\n",
       "      <td>Pinot Gris</td>\n",
       "      <td>Rainstorm</td>\n",
       "    </tr>\n",
       "    <tr>\n",
       "      <th>3</th>\n",
       "      <td>3</td>\n",
       "      <td>US</td>\n",
       "      <td>Pineapple rind, lemon pith and orange blossom ...</td>\n",
       "      <td>Reserve Late Harvest</td>\n",
       "      <td>87</td>\n",
       "      <td>13.0</td>\n",
       "      <td>Michigan</td>\n",
       "      <td>Lake Michigan Shore</td>\n",
       "      <td>NaN</td>\n",
       "      <td>Alexander Peartree</td>\n",
       "      <td>NaN</td>\n",
       "      <td>St. Julian 2013 Reserve Late Harvest Riesling ...</td>\n",
       "      <td>Riesling</td>\n",
       "      <td>St. Julian</td>\n",
       "    </tr>\n",
       "    <tr>\n",
       "      <th>4</th>\n",
       "      <td>4</td>\n",
       "      <td>US</td>\n",
       "      <td>Much like the regular bottling from 2012, this...</td>\n",
       "      <td>Vintner's Reserve Wild Child Block</td>\n",
       "      <td>87</td>\n",
       "      <td>65.0</td>\n",
       "      <td>Oregon</td>\n",
       "      <td>Willamette Valley</td>\n",
       "      <td>Willamette Valley</td>\n",
       "      <td>Paul Gregutt</td>\n",
       "      <td>@paulgwine</td>\n",
       "      <td>Sweet Cheeks 2012 Vintner's Reserve Wild Child...</td>\n",
       "      <td>Pinot Noir</td>\n",
       "      <td>Sweet Cheeks</td>\n",
       "    </tr>\n",
       "  </tbody>\n",
       "</table>\n",
       "</div>"
      ],
      "text/plain": [
       "   Unnamed: 0   country                                        description  \\\n",
       "0           0     Italy  Aromas include tropical fruit, broom, brimston...   \n",
       "1           1  Portugal  This is ripe and fruity, a wine that is smooth...   \n",
       "2           2        US  Tart and snappy, the flavors of lime flesh and...   \n",
       "3           3        US  Pineapple rind, lemon pith and orange blossom ...   \n",
       "4           4        US  Much like the regular bottling from 2012, this...   \n",
       "\n",
       "                          designation  points  price           province  \\\n",
       "0                        Vulkà Bianco      87    NaN  Sicily & Sardinia   \n",
       "1                            Avidagos      87   15.0              Douro   \n",
       "2                                 NaN      87   14.0             Oregon   \n",
       "3                Reserve Late Harvest      87   13.0           Michigan   \n",
       "4  Vintner's Reserve Wild Child Block      87   65.0             Oregon   \n",
       "\n",
       "              region_1           region_2         taster_name  \\\n",
       "0                 Etna                NaN       Kerin O’Keefe   \n",
       "1                  NaN                NaN          Roger Voss   \n",
       "2    Willamette Valley  Willamette Valley        Paul Gregutt   \n",
       "3  Lake Michigan Shore                NaN  Alexander Peartree   \n",
       "4    Willamette Valley  Willamette Valley        Paul Gregutt   \n",
       "\n",
       "  taster_twitter_handle                                              title  \\\n",
       "0          @kerinokeefe                  Nicosia 2013 Vulkà Bianco  (Etna)   \n",
       "1            @vossroger      Quinta dos Avidagos 2011 Avidagos Red (Douro)   \n",
       "2           @paulgwine       Rainstorm 2013 Pinot Gris (Willamette Valley)   \n",
       "3                   NaN  St. Julian 2013 Reserve Late Harvest Riesling ...   \n",
       "4           @paulgwine   Sweet Cheeks 2012 Vintner's Reserve Wild Child...   \n",
       "\n",
       "          variety               winery  \n",
       "0     White Blend              Nicosia  \n",
       "1  Portuguese Red  Quinta dos Avidagos  \n",
       "2      Pinot Gris            Rainstorm  \n",
       "3        Riesling           St. Julian  \n",
       "4      Pinot Noir         Sweet Cheeks  "
      ]
     },
     "execution_count": 5,
     "metadata": {},
     "output_type": "execute_result"
    }
   ],
   "source": [
    "# Preview of the data\n",
    "df.head()"
   ]
  },
  {
   "cell_type": "markdown",
   "metadata": {},
   "source": [
    "#### Filter Data\n",
    "Get only the columns that we want and rename the columns name"
   ]
  },
  {
   "cell_type": "code",
   "execution_count": 6,
   "metadata": {
    "collapsed": true
   },
   "outputs": [],
   "source": [
    "df = df[['country','province','region_1','variety','price','taster_name','points']]\n",
    "df = df.rename(columns={'region_1': 'region'}).dropna(subset=['country','province','region','variety','taster_name','points'])"
   ]
  },
  {
   "cell_type": "code",
   "execution_count": 7,
   "metadata": {},
   "outputs": [
    {
     "data": {
      "text/html": [
       "<div>\n",
       "<style scoped>\n",
       "    .dataframe tbody tr th:only-of-type {\n",
       "        vertical-align: middle;\n",
       "    }\n",
       "\n",
       "    .dataframe tbody tr th {\n",
       "        vertical-align: top;\n",
       "    }\n",
       "\n",
       "    .dataframe thead th {\n",
       "        text-align: right;\n",
       "    }\n",
       "</style>\n",
       "<table border=\"1\" class=\"dataframe\">\n",
       "  <thead>\n",
       "    <tr style=\"text-align: right;\">\n",
       "      <th></th>\n",
       "      <th>country</th>\n",
       "      <th>province</th>\n",
       "      <th>region</th>\n",
       "      <th>variety</th>\n",
       "      <th>price</th>\n",
       "      <th>taster_name</th>\n",
       "      <th>points</th>\n",
       "    </tr>\n",
       "  </thead>\n",
       "  <tbody>\n",
       "    <tr>\n",
       "      <th>0</th>\n",
       "      <td>Italy</td>\n",
       "      <td>Sicily &amp; Sardinia</td>\n",
       "      <td>Etna</td>\n",
       "      <td>White Blend</td>\n",
       "      <td>NaN</td>\n",
       "      <td>Kerin O’Keefe</td>\n",
       "      <td>87</td>\n",
       "    </tr>\n",
       "    <tr>\n",
       "      <th>2</th>\n",
       "      <td>US</td>\n",
       "      <td>Oregon</td>\n",
       "      <td>Willamette Valley</td>\n",
       "      <td>Pinot Gris</td>\n",
       "      <td>14.0</td>\n",
       "      <td>Paul Gregutt</td>\n",
       "      <td>87</td>\n",
       "    </tr>\n",
       "    <tr>\n",
       "      <th>3</th>\n",
       "      <td>US</td>\n",
       "      <td>Michigan</td>\n",
       "      <td>Lake Michigan Shore</td>\n",
       "      <td>Riesling</td>\n",
       "      <td>13.0</td>\n",
       "      <td>Alexander Peartree</td>\n",
       "      <td>87</td>\n",
       "    </tr>\n",
       "    <tr>\n",
       "      <th>4</th>\n",
       "      <td>US</td>\n",
       "      <td>Oregon</td>\n",
       "      <td>Willamette Valley</td>\n",
       "      <td>Pinot Noir</td>\n",
       "      <td>65.0</td>\n",
       "      <td>Paul Gregutt</td>\n",
       "      <td>87</td>\n",
       "    </tr>\n",
       "    <tr>\n",
       "      <th>5</th>\n",
       "      <td>Spain</td>\n",
       "      <td>Northern Spain</td>\n",
       "      <td>Navarra</td>\n",
       "      <td>Tempranillo-Merlot</td>\n",
       "      <td>15.0</td>\n",
       "      <td>Michael Schachner</td>\n",
       "      <td>87</td>\n",
       "    </tr>\n",
       "  </tbody>\n",
       "</table>\n",
       "</div>"
      ],
      "text/plain": [
       "  country           province               region             variety  price  \\\n",
       "0   Italy  Sicily & Sardinia                 Etna         White Blend    NaN   \n",
       "2      US             Oregon    Willamette Valley          Pinot Gris   14.0   \n",
       "3      US           Michigan  Lake Michigan Shore            Riesling   13.0   \n",
       "4      US             Oregon    Willamette Valley          Pinot Noir   65.0   \n",
       "5   Spain     Northern Spain              Navarra  Tempranillo-Merlot   15.0   \n",
       "\n",
       "          taster_name  points  \n",
       "0       Kerin O’Keefe      87  \n",
       "2        Paul Gregutt      87  \n",
       "3  Alexander Peartree      87  \n",
       "4        Paul Gregutt      87  \n",
       "5   Michael Schachner      87  "
      ]
     },
     "execution_count": 7,
     "metadata": {},
     "output_type": "execute_result"
    }
   ],
   "source": [
    "df.head()"
   ]
  },
  {
   "cell_type": "markdown",
   "metadata": {},
   "source": [
    "#### Group Wine By Region"
   ]
  },
  {
   "cell_type": "code",
   "execution_count": 9,
   "metadata": {},
   "outputs": [],
   "source": [
    "wines = df.groupby(['country', 'province', 'region', 'variety']).agg({'price': 'mean'}).reset_index()\n",
    "wines = wines.assign(id=pd.Series(range(1, wines.shape[0]+1), dtype=int, index=wines.index))\n",
    "wines = wines[['id', 'country', 'province', 'region', 'variety', 'price']]"
   ]
  },
  {
   "cell_type": "code",
   "execution_count": 10,
   "metadata": {},
   "outputs": [
    {
     "data": {
      "text/html": [
       "<div>\n",
       "<style scoped>\n",
       "    .dataframe tbody tr th:only-of-type {\n",
       "        vertical-align: middle;\n",
       "    }\n",
       "\n",
       "    .dataframe tbody tr th {\n",
       "        vertical-align: top;\n",
       "    }\n",
       "\n",
       "    .dataframe thead th {\n",
       "        text-align: right;\n",
       "    }\n",
       "</style>\n",
       "<table border=\"1\" class=\"dataframe\">\n",
       "  <thead>\n",
       "    <tr style=\"text-align: right;\">\n",
       "      <th></th>\n",
       "      <th>id</th>\n",
       "      <th>country</th>\n",
       "      <th>province</th>\n",
       "      <th>region</th>\n",
       "      <th>variety</th>\n",
       "      <th>price</th>\n",
       "    </tr>\n",
       "  </thead>\n",
       "  <tbody>\n",
       "    <tr>\n",
       "      <th>0</th>\n",
       "      <td>1</td>\n",
       "      <td>Argentina</td>\n",
       "      <td>Mendoza Province</td>\n",
       "      <td>Agrelo</td>\n",
       "      <td>Bonarda</td>\n",
       "      <td>17.857143</td>\n",
       "    </tr>\n",
       "    <tr>\n",
       "      <th>1</th>\n",
       "      <td>2</td>\n",
       "      <td>Argentina</td>\n",
       "      <td>Mendoza Province</td>\n",
       "      <td>Agrelo</td>\n",
       "      <td>Bordeaux-style Red Blend</td>\n",
       "      <td>34.500000</td>\n",
       "    </tr>\n",
       "    <tr>\n",
       "      <th>2</th>\n",
       "      <td>3</td>\n",
       "      <td>Argentina</td>\n",
       "      <td>Mendoza Province</td>\n",
       "      <td>Agrelo</td>\n",
       "      <td>Cabernet Franc</td>\n",
       "      <td>40.800000</td>\n",
       "    </tr>\n",
       "    <tr>\n",
       "      <th>3</th>\n",
       "      <td>4</td>\n",
       "      <td>Argentina</td>\n",
       "      <td>Mendoza Province</td>\n",
       "      <td>Agrelo</td>\n",
       "      <td>Cabernet Sauvignon</td>\n",
       "      <td>20.250000</td>\n",
       "    </tr>\n",
       "    <tr>\n",
       "      <th>4</th>\n",
       "      <td>5</td>\n",
       "      <td>Argentina</td>\n",
       "      <td>Mendoza Province</td>\n",
       "      <td>Agrelo</td>\n",
       "      <td>Chardonnay</td>\n",
       "      <td>15.000000</td>\n",
       "    </tr>\n",
       "  </tbody>\n",
       "</table>\n",
       "</div>"
      ],
      "text/plain": [
       "   id    country          province  region                   variety  \\\n",
       "0   1  Argentina  Mendoza Province  Agrelo                   Bonarda   \n",
       "1   2  Argentina  Mendoza Province  Agrelo  Bordeaux-style Red Blend   \n",
       "2   3  Argentina  Mendoza Province  Agrelo            Cabernet Franc   \n",
       "3   4  Argentina  Mendoza Province  Agrelo        Cabernet Sauvignon   \n",
       "4   5  Argentina  Mendoza Province  Agrelo                Chardonnay   \n",
       "\n",
       "       price  \n",
       "0  17.857143  \n",
       "1  34.500000  \n",
       "2  40.800000  \n",
       "3  20.250000  \n",
       "4  15.000000  "
      ]
     },
     "execution_count": 10,
     "metadata": {},
     "output_type": "execute_result"
    }
   ],
   "source": [
    "wines.head()"
   ]
  },
  {
   "cell_type": "markdown",
   "metadata": {},
   "source": [
    "#### Group the User Data (Taster Data)"
   ]
  },
  {
   "cell_type": "code",
   "execution_count": 11,
   "metadata": {
    "collapsed": true
   },
   "outputs": [],
   "source": [
    "users = df.groupby('taster_name').count().reset_index()[['taster_name']]\n",
    "users = users.assign(id=pd.Series(range(1, users.shape[0]+1), dtype=int, index=users.index))"
   ]
  },
  {
   "cell_type": "code",
   "execution_count": 12,
   "metadata": {},
   "outputs": [
    {
     "data": {
      "text/html": [
       "<div>\n",
       "<style scoped>\n",
       "    .dataframe tbody tr th:only-of-type {\n",
       "        vertical-align: middle;\n",
       "    }\n",
       "\n",
       "    .dataframe tbody tr th {\n",
       "        vertical-align: top;\n",
       "    }\n",
       "\n",
       "    .dataframe thead th {\n",
       "        text-align: right;\n",
       "    }\n",
       "</style>\n",
       "<table border=\"1\" class=\"dataframe\">\n",
       "  <thead>\n",
       "    <tr style=\"text-align: right;\">\n",
       "      <th></th>\n",
       "      <th>taster_name</th>\n",
       "      <th>id</th>\n",
       "    </tr>\n",
       "  </thead>\n",
       "  <tbody>\n",
       "    <tr>\n",
       "      <th>0</th>\n",
       "      <td>Alexander Peartree</td>\n",
       "      <td>1</td>\n",
       "    </tr>\n",
       "    <tr>\n",
       "      <th>1</th>\n",
       "      <td>Anna Lee C. Iijima</td>\n",
       "      <td>2</td>\n",
       "    </tr>\n",
       "    <tr>\n",
       "      <th>2</th>\n",
       "      <td>Anne Krebiehl MW</td>\n",
       "      <td>3</td>\n",
       "    </tr>\n",
       "    <tr>\n",
       "      <th>3</th>\n",
       "      <td>Carrie Dykes</td>\n",
       "      <td>4</td>\n",
       "    </tr>\n",
       "    <tr>\n",
       "      <th>4</th>\n",
       "      <td>Christina Pickard</td>\n",
       "      <td>5</td>\n",
       "    </tr>\n",
       "  </tbody>\n",
       "</table>\n",
       "</div>"
      ],
      "text/plain": [
       "          taster_name  id\n",
       "0  Alexander Peartree   1\n",
       "1  Anna Lee C. Iijima   2\n",
       "2    Anne Krebiehl MW   3\n",
       "3        Carrie Dykes   4\n",
       "4   Christina Pickard   5"
      ]
     },
     "execution_count": 12,
     "metadata": {},
     "output_type": "execute_result"
    }
   ],
   "source": [
    "users.head()"
   ]
  },
  {
   "cell_type": "markdown",
   "metadata": {},
   "source": [
    "#### Create the User and Wine ID Dict"
   ]
  },
  {
   "cell_type": "code",
   "execution_count": 17,
   "metadata": {},
   "outputs": [],
   "source": [
    "wine_id_dict = {(row['country'], row['province'], row['region'], row['variety']): row['id'] for index, row in wines.iterrows()}\n",
    "user_id_dict = {row['taster_name']: row['id'] for index, row in users.iterrows()}"
   ]
  },
  {
   "cell_type": "code",
   "execution_count": 18,
   "metadata": {
    "collapsed": true
   },
   "outputs": [],
   "source": [
    "def get_wine_id_series(data_frame):\n",
    "    return pd.Series((wine_id_translator[(row['country'], row['province'], row['region'], row['variety'])] for _, row in data_frame.iterrows()), index=data_frame.index)\n",
    "\n",
    "def get_user_id_series(data_frame):\n",
    "    return pd.Series((user_id_translator[row['taster_name']] for _, row in data_frame.iterrows()), index=data_frame.index)"
   ]
  },
  {
   "cell_type": "markdown",
   "metadata": {},
   "source": [
    "#### Aggregate Average Points of All Ratings"
   ]
  },
  {
   "cell_type": "code",
   "execution_count": 20,
   "metadata": {},
   "outputs": [],
   "source": [
    "ratings = df.assign(wine_id=get_wine_id_series, user_id=get_user_id_series)[['taster_name', 'user_id', 'wine_id', 'points']].groupby(['user_id', 'taster_name', 'wine_id']).mean().reset_index()"
   ]
  },
  {
   "cell_type": "markdown",
   "metadata": {},
   "source": [
    "#### Filter the Data by Threshold"
   ]
  },
  {
   "cell_type": "code",
   "execution_count": 21,
   "metadata": {
    "collapsed": true
   },
   "outputs": [],
   "source": [
    "THRESHOLD = 3\n",
    "filtered_wines = list(ratings.groupby(['wine_id']).count()[lambda x: x['points'] >= THRESHOLD].reset_index()['wine_id'].values)"
   ]
  },
  {
   "cell_type": "code",
   "execution_count": 23,
   "metadata": {},
   "outputs": [],
   "source": [
    "ratings = ratings.loc[ratings['wine_id'].isin(filtered_wines)].astype({'wine_id': int, 'user_id': int}).reset_index(drop=True)\n",
    "wines = wines.loc[wines['id'].isin(filtered_wines)].astype({'id': int}).reset_index(drop=True)\n",
    "users = users.loc[users['id'].isin(ratings['user_id'].values)].astype({'id': int}).reset_index(drop=True)"
   ]
  },
  {
   "cell_type": "markdown",
   "metadata": {},
   "source": [
    "#### Preview of the Cleaned Data"
   ]
  },
  {
   "cell_type": "code",
   "execution_count": 25,
   "metadata": {},
   "outputs": [
    {
     "data": {
      "text/html": [
       "<div>\n",
       "<style scoped>\n",
       "    .dataframe tbody tr th:only-of-type {\n",
       "        vertical-align: middle;\n",
       "    }\n",
       "\n",
       "    .dataframe tbody tr th {\n",
       "        vertical-align: top;\n",
       "    }\n",
       "\n",
       "    .dataframe thead th {\n",
       "        text-align: right;\n",
       "    }\n",
       "</style>\n",
       "<table border=\"1\" class=\"dataframe\">\n",
       "  <thead>\n",
       "    <tr style=\"text-align: right;\">\n",
       "      <th></th>\n",
       "      <th>user_id</th>\n",
       "      <th>taster_name</th>\n",
       "      <th>wine_id</th>\n",
       "      <th>points</th>\n",
       "    </tr>\n",
       "  </thead>\n",
       "  <tbody>\n",
       "    <tr>\n",
       "      <th>0</th>\n",
       "      <td>1</td>\n",
       "      <td>Alexander Peartree</td>\n",
       "      <td>5069</td>\n",
       "      <td>87.666667</td>\n",
       "    </tr>\n",
       "    <tr>\n",
       "      <th>1</th>\n",
       "      <td>1</td>\n",
       "      <td>Alexander Peartree</td>\n",
       "      <td>5737</td>\n",
       "      <td>89.000000</td>\n",
       "    </tr>\n",
       "    <tr>\n",
       "      <th>2</th>\n",
       "      <td>1</td>\n",
       "      <td>Alexander Peartree</td>\n",
       "      <td>5738</td>\n",
       "      <td>86.750000</td>\n",
       "    </tr>\n",
       "    <tr>\n",
       "      <th>3</th>\n",
       "      <td>1</td>\n",
       "      <td>Alexander Peartree</td>\n",
       "      <td>5741</td>\n",
       "      <td>86.250000</td>\n",
       "    </tr>\n",
       "    <tr>\n",
       "      <th>4</th>\n",
       "      <td>1</td>\n",
       "      <td>Alexander Peartree</td>\n",
       "      <td>5743</td>\n",
       "      <td>88.000000</td>\n",
       "    </tr>\n",
       "  </tbody>\n",
       "</table>\n",
       "</div>"
      ],
      "text/plain": [
       "   user_id         taster_name  wine_id     points\n",
       "0        1  Alexander Peartree     5069  87.666667\n",
       "1        1  Alexander Peartree     5737  89.000000\n",
       "2        1  Alexander Peartree     5738  86.750000\n",
       "3        1  Alexander Peartree     5741  86.250000\n",
       "4        1  Alexander Peartree     5743  88.000000"
      ]
     },
     "execution_count": 25,
     "metadata": {},
     "output_type": "execute_result"
    }
   ],
   "source": [
    "ratings.head()"
   ]
  },
  {
   "cell_type": "code",
   "execution_count": 26,
   "metadata": {},
   "outputs": [
    {
     "data": {
      "text/html": [
       "<div>\n",
       "<style scoped>\n",
       "    .dataframe tbody tr th:only-of-type {\n",
       "        vertical-align: middle;\n",
       "    }\n",
       "\n",
       "    .dataframe tbody tr th {\n",
       "        vertical-align: top;\n",
       "    }\n",
       "\n",
       "    .dataframe thead th {\n",
       "        text-align: right;\n",
       "    }\n",
       "</style>\n",
       "<table border=\"1\" class=\"dataframe\">\n",
       "  <thead>\n",
       "    <tr style=\"text-align: right;\">\n",
       "      <th></th>\n",
       "      <th>id</th>\n",
       "      <th>country</th>\n",
       "      <th>province</th>\n",
       "      <th>region</th>\n",
       "      <th>variety</th>\n",
       "      <th>price</th>\n",
       "    </tr>\n",
       "  </thead>\n",
       "  <tbody>\n",
       "    <tr>\n",
       "      <th>0</th>\n",
       "      <td>739</td>\n",
       "      <td>Canada</td>\n",
       "      <td>Ontario</td>\n",
       "      <td>Niagara Peninsula</td>\n",
       "      <td>Riesling</td>\n",
       "      <td>42.423077</td>\n",
       "    </tr>\n",
       "    <tr>\n",
       "      <th>1</th>\n",
       "      <td>741</td>\n",
       "      <td>Canada</td>\n",
       "      <td>Ontario</td>\n",
       "      <td>Niagara Peninsula</td>\n",
       "      <td>Vidal Blanc</td>\n",
       "      <td>62.615385</td>\n",
       "    </tr>\n",
       "    <tr>\n",
       "      <th>2</th>\n",
       "      <td>757</td>\n",
       "      <td>France</td>\n",
       "      <td>Alsace</td>\n",
       "      <td>Alsace</td>\n",
       "      <td>Gewürztraminer</td>\n",
       "      <td>34.206897</td>\n",
       "    </tr>\n",
       "    <tr>\n",
       "      <th>3</th>\n",
       "      <td>760</td>\n",
       "      <td>France</td>\n",
       "      <td>Alsace</td>\n",
       "      <td>Alsace</td>\n",
       "      <td>Pinot Blanc</td>\n",
       "      <td>17.622047</td>\n",
       "    </tr>\n",
       "    <tr>\n",
       "      <th>4</th>\n",
       "      <td>778</td>\n",
       "      <td>France</td>\n",
       "      <td>Alsace</td>\n",
       "      <td>Crémant d'Alsace</td>\n",
       "      <td>Sparkling Blend</td>\n",
       "      <td>24.886256</td>\n",
       "    </tr>\n",
       "  </tbody>\n",
       "</table>\n",
       "</div>"
      ],
      "text/plain": [
       "    id country province             region          variety      price\n",
       "0  739  Canada  Ontario  Niagara Peninsula         Riesling  42.423077\n",
       "1  741  Canada  Ontario  Niagara Peninsula      Vidal Blanc  62.615385\n",
       "2  757  France   Alsace             Alsace   Gewürztraminer  34.206897\n",
       "3  760  France   Alsace             Alsace      Pinot Blanc  17.622047\n",
       "4  778  France   Alsace   Crémant d'Alsace  Sparkling Blend  24.886256"
      ]
     },
     "execution_count": 26,
     "metadata": {},
     "output_type": "execute_result"
    }
   ],
   "source": [
    "wines.head()"
   ]
  },
  {
   "cell_type": "code",
   "execution_count": 27,
   "metadata": {},
   "outputs": [
    {
     "data": {
      "text/html": [
       "<div>\n",
       "<style scoped>\n",
       "    .dataframe tbody tr th:only-of-type {\n",
       "        vertical-align: middle;\n",
       "    }\n",
       "\n",
       "    .dataframe tbody tr th {\n",
       "        vertical-align: top;\n",
       "    }\n",
       "\n",
       "    .dataframe thead th {\n",
       "        text-align: right;\n",
       "    }\n",
       "</style>\n",
       "<table border=\"1\" class=\"dataframe\">\n",
       "  <thead>\n",
       "    <tr style=\"text-align: right;\">\n",
       "      <th></th>\n",
       "      <th>taster_name</th>\n",
       "      <th>id</th>\n",
       "    </tr>\n",
       "  </thead>\n",
       "  <tbody>\n",
       "    <tr>\n",
       "      <th>0</th>\n",
       "      <td>Alexander Peartree</td>\n",
       "      <td>1</td>\n",
       "    </tr>\n",
       "    <tr>\n",
       "      <th>1</th>\n",
       "      <td>Anna Lee C. Iijima</td>\n",
       "      <td>2</td>\n",
       "    </tr>\n",
       "    <tr>\n",
       "      <th>2</th>\n",
       "      <td>Anne Krebiehl MW</td>\n",
       "      <td>3</td>\n",
       "    </tr>\n",
       "    <tr>\n",
       "      <th>3</th>\n",
       "      <td>Carrie Dykes</td>\n",
       "      <td>4</td>\n",
       "    </tr>\n",
       "    <tr>\n",
       "      <th>4</th>\n",
       "      <td>Christina Pickard</td>\n",
       "      <td>5</td>\n",
       "    </tr>\n",
       "  </tbody>\n",
       "</table>\n",
       "</div>"
      ],
      "text/plain": [
       "          taster_name  id\n",
       "0  Alexander Peartree   1\n",
       "1  Anna Lee C. Iijima   2\n",
       "2    Anne Krebiehl MW   3\n",
       "3        Carrie Dykes   4\n",
       "4   Christina Pickard   5"
      ]
     },
     "execution_count": 27,
     "metadata": {},
     "output_type": "execute_result"
    }
   ],
   "source": [
    "users.head()"
   ]
  },
  {
   "cell_type": "markdown",
   "metadata": {},
   "source": [
    "### Collaborative Filtering\n",
    "`collaborative_filtering` function will return the predicted rating of the user with `taster_name` for wine with id `wine_id`. This function uses a KNN classifier. To train the model, all other ratings are used."
   ]
  },
  {
   "cell_type": "code",
   "execution_count": 28,
   "metadata": {
    "collapsed": true
   },
   "outputs": [],
   "source": [
    "def collaborative_filtering(ratings, taster_name, wine_id):\n",
    "    is_target = (ratings['taster_name'] == taster_name) & (ratings['wine_id'] == wine_id)\n",
    "    target = ratings[is_target].iloc[0]\n",
    "    \n",
    "    train_set = sp.Dataset.load_from_df(\n",
    "        ratings[~is_target][['user_id', 'wine_id', 'points']], \n",
    "        sp.Reader(rating_scale=(0, 100))\n",
    "    ).build_full_trainset()\n",
    "\n",
    "    algo = sp.KNNBasic(verbose=False)\n",
    "    algo.fit(train_set)\n",
    "    prediction = algo.predict(target['user_id'], target['wine_id'], verbose=False)\n",
    "    return prediction.est, prediction.est - target['points'], target['points']"
   ]
  },
  {
   "cell_type": "markdown",
   "metadata": {},
   "source": [
    "### Content-Based\n",
    "`content_based` returns the predicted rating of the user with name `taster_name` for item with id `wine_id`.\n",
    "The function also uses a KNN classifier. To train the model, all other ratings from the same user, as well as the wine database are used.\n",
    "The error and the actual rating is returned as well."
   ]
  },
  {
   "cell_type": "code",
   "execution_count": 29,
   "metadata": {
    "collapsed": true
   },
   "outputs": [],
   "source": [
    "# Content-Based\n",
    "\n",
    "from sklearn.preprocessing import LabelEncoder, MinMaxScaler\n",
    "from sklearn.neighbors import KNeighborsClassifier\n",
    "\n",
    "def content_based(ratings, wines, taster_name, wine_id):\n",
    "    user_ratings = ratings[ratings['taster_name'] == taster_name].join(wines.set_index('id'), on='wine_id')\n",
    "    is_target = (user_ratings['wine_id'] == wine_id)\n",
    "    \n",
    "    features = pd.get_dummies(user_ratings.drop(columns=['points']))\n",
    "    train_features = features[~is_target]\n",
    "    target_features = features[is_target]\n",
    "    \n",
    "    encoder = LabelEncoder()\n",
    "    train_labels = encoder.fit_transform(user_ratings[~is_target]['points'])\n",
    "    target_label = user_ratings[is_target]['points'].iloc[0]\n",
    "\n",
    "    clf = KNeighborsClassifier(n_neighbors=1)\n",
    "    clf.fit(train_features, train_labels)\n",
    "    prediction = encoder.inverse_transform(clf.predict(target_features))[0]\n",
    "    return prediction, prediction - target_label, target_label"
   ]
  },
  {
   "cell_type": "markdown",
   "metadata": {},
   "source": [
    "#### Testing the Recommenders"
   ]
  },
  {
   "cell_type": "code",
   "execution_count": 30,
   "metadata": {
    "collapsed": true
   },
   "outputs": [],
   "source": [
    "def test_classifier(taster_name, wine_id):\n",
    "    pred_cf, error_cf, truth = collaborative_filtering(ratings, taster_name, wine_id)\n",
    "    pred_cn, error_cn, truth = content_based(ratings, wines, taster_name, wine_id)\n",
    "    print(\"Results for {} on wine with id {}:\".format(taster_name, wine_id))\n",
    "    print(\"Collaborative Filtering: \\t prediction: {:.5f} \\t error: {:.5f}\".format(pred_cf, error_cf))\n",
    "    print(\"Content-Based: \\t\\t\\t prediction: {:.5f} \\t error: {:.5f}\".format(pred_cn, error_cn))"
   ]
  },
  {
   "cell_type": "markdown",
   "metadata": {},
   "source": [
    "These two examples are used to test our collaborative filtering and content-based recommender system. For this purpose taster with the name `Carrie Dykes` and `Christina Pickard` is used for testing and the wine id that is used for testing is the wine with id of 741. The prediction is at 89.6550 for collaborative filtering and 89.5 for content-based. Looking at this fact we can say that Collaborative Filtering and Content-based suggested that Carrie Dykes will like the wine."
   ]
  },
  {
   "cell_type": "code",
   "execution_count": 34,
   "metadata": {},
   "outputs": [
    {
     "name": "stdout",
     "output_type": "stream",
     "text": [
      "Results for Carrie Dykes on wine with id 741:\n",
      "Collaborative Filtering: \t prediction: 89.65560 \t error: -0.01107\n",
      "Content-Based: \t\t\t prediction: 89.50000 \t error: -0.16667\n"
     ]
    }
   ],
   "source": [
    "test_classifier(taster_name='Carrie Dykes', wine_id=741)"
   ]
  },
  {
   "cell_type": "code",
   "execution_count": 35,
   "metadata": {},
   "outputs": [
    {
     "name": "stdout",
     "output_type": "stream",
     "text": [
      "Results for Christina Pickard on wine with id 4147:\n",
      "Collaborative Filtering: \t prediction: 87.93883 \t error: 2.83883\n",
      "Content-Based: \t\t\t prediction: 85.50000 \t error: 0.40000\n"
     ]
    }
   ],
   "source": [
    "test_classifier(taster_name='Christina Pickard', wine_id=741)"
   ]
  },
  {
   "cell_type": "markdown",
   "metadata": {},
   "source": [
    "### Hybrid Recommender System\n",
    "For the purpose of hybrid recommender system weighted soft voting method is created, the soft voting is based on the results of `collaborative_filtering` and `content_based`. For testing the hybrid recommender system the same taster is used `Carrie Dykes` and as can be seen from the results we see an increase in prediction and reduce in error."
   ]
  },
  {
   "cell_type": "code",
   "execution_count": 36,
   "metadata": {},
   "outputs": [
    {
     "name": "stdout",
     "output_type": "stream",
     "text": [
      "Weighted Hybrid: \t prediction: 89.57780 \t error: -0.08887\n"
     ]
    }
   ],
   "source": [
    "def hybrid_cf_cb(ratings, wines, taster_name, wine_id):\n",
    "    prediction_cf, _, truth = predict_cf(ratings, taster_name, wine_id)\n",
    "    prediction_cn, _, truth = predict_cn(ratings, wines, taster_name, wine_id)\n",
    "    \n",
    "    # Weights can be chosen differently, depending on \n",
    "    # the (assumed) quality of the recommenders\n",
    "    prediction = 0.5 * prediction_cf + 0.5 * prediction_cn\n",
    "    error = prediction - truth\n",
    "    return prediction, error, truth\n",
    "\n",
    "\n",
    "pred_weighted, error_weighted, truth = hybrid_cf_cb(ratings, wines, taster_name='Carrie Dykes', wine_id=741)\n",
    "print(\"Weighted Hybrid: \\t prediction: {:.5f} \\t error: {:.5f}\".format(pred_weighted, error_weighted))"
   ]
  },
  {
   "cell_type": "markdown",
   "metadata": {},
   "source": [
    "### Content-Based Recommender System (Item-Based)"
   ]
  },
  {
   "cell_type": "markdown",
   "metadata": {},
   "source": [
    "For the purpose of this exercise called content based recommender system. We're trying to find the similar item based on the content description similarity. As we know that there are two approaches to content based recommendation system:\n",
    "- **Approach 1** — Analysing Description of the Content Only\n",
    "- **Approach 2** — Building User Profile and Item Profile from User Rated Content \n",
    "\n",
    "For this exercise the first approach will be used "
   ]
  },
  {
   "cell_type": "markdown",
   "metadata": {},
   "source": [
    "#### Dataset\n",
    "The dataset is a dataset containing list of fashion products. It's a 2x500 matrix data and having only `id` and `description` columns. The description contains free text of the overview of the product and detailed description of the products that are being sold. It also has the `fabric` and `weight` information of each product."
   ]
  },
  {
   "cell_type": "markdown",
   "metadata": {},
   "source": [
    "#### Case Story\n",
    "Hari wants to know which products are similar to the product that he bought, he hated the e-commerce's current recommendation system so he created his own recommendation system. For this purpose, he created a content-based recommender system by scraping the data from the "
   ]
  },
  {
   "cell_type": "markdown",
   "metadata": {},
   "source": [
    "#### Library and Data Imports"
   ]
  },
  {
   "cell_type": "code",
   "execution_count": 51,
   "metadata": {
    "collapsed": true
   },
   "outputs": [],
   "source": [
    "# Import pandas for data manipulation\n",
    "import pandas as pd\n",
    "\n",
    "# Import TfidVectorizer for converting text to the TFIF matrix\n",
    "from sklearn.feature_extraction.text import TfidfVectorizer\n",
    "\n",
    "# Import sklearn for calculating the similarity\n",
    "from sklearn.metrics.pairwise import linear_kernel "
   ]
  },
  {
   "cell_type": "code",
   "execution_count": 52,
   "metadata": {},
   "outputs": [
    {
     "name": "stdout",
     "output_type": "stream",
     "text": [
      "[nltk_data] Downloading package stopwords to\n",
      "[nltk_data]     C:\\Users\\m.haris01\\AppData\\Roaming\\nltk_data...\n",
      "[nltk_data]   Package stopwords is already up-to-date!\n"
     ]
    }
   ],
   "source": [
    "# Display the HTML in the description\n",
    "from IPython.core.display import display, HTML\n",
    "\n",
    "# For Regex purposes\n",
    "import re\n",
    "\n",
    "# Import nltk module \n",
    "import nltk\n",
    "nltk.download('stopwords')\n",
    "from nltk.corpus import stopwords\n",
    "from nltk.stem import PorterStemmer"
   ]
  },
  {
   "cell_type": "code",
   "execution_count": 53,
   "metadata": {
    "collapsed": true
   },
   "outputs": [],
   "source": [
    "# Load the dataset\n",
    "df = pd.read_csv(\"data/cbrs_data.csv\")"
   ]
  },
  {
   "cell_type": "code",
   "execution_count": 54,
   "metadata": {},
   "outputs": [
    {
     "data": {
      "text/plain": [
       "(500, 2)"
      ]
     },
     "execution_count": 54,
     "metadata": {},
     "output_type": "execute_result"
    }
   ],
   "source": [
    "# Preview of the dataset\n",
    "df.shape"
   ]
  },
  {
   "cell_type": "code",
   "execution_count": 55,
   "metadata": {},
   "outputs": [
    {
     "data": {
      "text/html": [
       "Alpine guide pants - Skin in, climb ice, switch to rock, traverse a knife-edge ridge and boogie back down - these durable, weather-resistant and breathable soft-shell pants keep stride on every mountain endeavor. The midweight stretch-woven polyester won't restrict your moves, and the brushed interior maintains next-to-skin comfort. A 2-way zippered fly keeps things easy with a harness on, and the gusseted, zippered cuffs have 2-position snaps and tie-down loops. With water-resistant zippered pockets: two front, two thigh, one back hip. Recyclable through the Common Threads Recycling Program.<br><br><b>Details:</b><ul> <li>Durable stretch-woven polyester (47% recycled) with DWR (durable water repellent) finish is water- and wind-resistant and highly breathable</li> <li>Brushed interior for next-to-skin comfort</li> <li>Waistband has belt loops and elastic on back</li> <li>2-way zippered fly</li> <li>\"External pockets: two front slash, two glued-on thigh, one back hip - all with highly water-resistant, DWR-finished zippers\"</li> <li>\"Gusseted, zippered cuff with 2-position adjustable settings and tie-down loops\"</li></ul><br><br><b>Fabric: </b>\"7.6-oz 90-denier 92% polyester (47% recycled)/8% spandex, with Deluge DWR finish. Recyclable through the Common Threads Recycling Program\"<br><br><b>Weight: </b>(597 g 20.7 oz)<br><br>Made in Vietnam."
      ],
      "text/plain": [
       "<IPython.core.display.HTML object>"
      ]
     },
     "metadata": {},
     "output_type": "display_data"
    }
   ],
   "source": [
    "# Preview of the first data\n",
    "display(HTML(df.loc[3].values[1]))"
   ]
  },
  {
   "cell_type": "markdown",
   "metadata": {},
   "source": [
    "#### Lower Casing"
   ]
  },
  {
   "cell_type": "code",
   "execution_count": 44,
   "metadata": {
    "collapsed": true
   },
   "outputs": [],
   "source": [
    "df[\"description\"] = df[\"description\"].str.lower()"
   ]
  },
  {
   "cell_type": "markdown",
   "metadata": {},
   "source": [
    "#### Punctuation Removal"
   ]
  },
  {
   "cell_type": "code",
   "execution_count": 45,
   "metadata": {
    "collapsed": true
   },
   "outputs": [],
   "source": [
    "df[\"description\"] = df[\"description\"].apply(lambda x : re.sub(r'[^\\w\\s]', '', x))"
   ]
  },
  {
   "cell_type": "markdown",
   "metadata": {},
   "source": [
    "#### Stopwords Removal"
   ]
  },
  {
   "cell_type": "code",
   "execution_count": 46,
   "metadata": {
    "collapsed": true
   },
   "outputs": [],
   "source": [
    "stop = stopwords.words('english')\n",
    "\n",
    "df[\"description\"] = df[\"description\"].apply(lambda x: \" \".join(list(set(x.split()) - set(stop))))"
   ]
  },
  {
   "cell_type": "markdown",
   "metadata": {},
   "source": [
    "#### Recommender System"
   ]
  },
  {
   "cell_type": "code",
   "execution_count": 56,
   "metadata": {
    "collapsed": true
   },
   "outputs": [],
   "source": [
    "# Create tfidf vector from the description column\n",
    "tf = TfidfVectorizer(analyzer='word', ngram_range=(1, 3), min_df=0, stop_words='english')\n",
    "\n",
    "tfidf_matrix = tf.fit_transform(df['description'])"
   ]
  },
  {
   "cell_type": "code",
   "execution_count": 57,
   "metadata": {
    "collapsed": true
   },
   "outputs": [],
   "source": [
    "# Calcualting the cosine similarities between the tfidf matrices\n",
    "cosine_similarities = linear_kernel(tfidf_matrix, tfidf_matrix) \n",
    "results = {}\n",
    "\n",
    "for idx, row in df.iterrows():\n",
    "    similar_indices = cosine_similarities[idx].argsort()[:-100:-1] \n",
    "    similar_items = [(cosine_similarities[idx][i], df['id'][i]) for i in similar_indices] \n",
    "    results[row['id']] = similar_items[1:]"
   ]
  },
  {
   "cell_type": "code",
   "execution_count": 58,
   "metadata": {
    "collapsed": true
   },
   "outputs": [],
   "source": [
    "def item(id):  \n",
    "    return df.loc[df['id'] == id]['description'].tolist()[0].split(' - ')[0]\n",
    "\n",
    "def recommend(item_id, num):\n",
    "    print(f\"Top {num} products similar to the {item(item_id)}\")   \n",
    "    print(\"-------\")    \n",
    "    recs = results[item_id][:num]   \n",
    "\n",
    "    for i, rec in enumerate(recs): \n",
    "        print(f\"{i+1}. {item(rec[1])} (SCORE: {rec[0]})\")"
   ]
  },
  {
   "cell_type": "markdown",
   "metadata": {},
   "source": [
    "We created the content-based recommender system based on `cosine_similarity`. For example, we want to check the product similar to the `item_id` 4."
   ]
  },
  {
   "cell_type": "code",
   "execution_count": 60,
   "metadata": {},
   "outputs": [
    {
     "name": "stdout",
     "output_type": "stream",
     "text": [
      "Top 10 products similar to the Alpine guide pants\n",
      "-------\n",
      "1. Alpine guide pants (SCORE: 0.8253856759948797)\n",
      "2. Guide jkt (SCORE: 0.20769755384994887)\n",
      "3. Guide jkt (SCORE: 0.18827991801713145)\n",
      "4. Rock guide pants (SCORE: 0.16574026828699218)\n",
      "5. Lw guide pants (SCORE: 0.16373827536275246)\n",
      "6. Lw guide pants (SCORE: 0.16057322023890835)\n",
      "7. Simple guide pants (SCORE: 0.15095357533978407)\n",
      "8. Simple guide jkt (SCORE: 0.14280033047131765)\n",
      "9. Simple guide jkt (SCORE: 0.1419570728794997)\n",
      "10. Traverse pants (SCORE: 0.13137137380042502)\n"
     ]
    }
   ],
   "source": [
    "recommend(item_id=4, num=10)"
   ]
  }
 ],
 "metadata": {
  "kernelspec": {
   "display_name": "Python 3",
   "language": "python",
   "name": "python3"
  },
  "language_info": {
   "codemirror_mode": {
    "name": "ipython",
    "version": 3
   },
   "file_extension": ".py",
   "mimetype": "text/x-python",
   "name": "python",
   "nbconvert_exporter": "python",
   "pygments_lexer": "ipython3",
   "version": "3.7.4"
  },
  "toc": {
   "base_numbering": 1,
   "nav_menu": {},
   "number_sections": true,
   "sideBar": true,
   "skip_h1_title": false,
   "title_cell": "Table of Contents",
   "title_sidebar": "Contents",
   "toc_cell": false,
   "toc_position": {},
   "toc_section_display": true,
   "toc_window_display": false
  }
 },
 "nbformat": 4,
 "nbformat_minor": 2
}
