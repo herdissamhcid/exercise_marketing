{
 "cells": [
  {
   "cell_type": "markdown",
   "metadata": {},
   "source": [
    "<p><font size=\"6\"><b>01 - Market Basket Analysis with Apriori </b></font></p>\n",
    "\n",
    "\n",
    "> *Herdis Haerusalam & Haries Ramdhani*  \n",
    "> *18 November, 2019*\n",
    "\n",
    "---"
   ]
  },
  {
   "cell_type": "code",
   "execution_count": 34,
   "metadata": {
    "ExecuteTime": {
     "end_time": "2019-11-18T05:47:01.004500Z",
     "start_time": "2019-11-18T05:47:00.987000Z"
    }
   },
   "outputs": [],
   "source": [
    "# Import required library\n",
    "import pandas as pd\n",
    "from mlxtend.frequent_patterns import apriori,association_rules\n",
    "import matplotlib.pyplot as plt\n",
    "import seaborn as sns\n",
    "from collections import Counter\n",
    "from itertools import combinations, groupby\n",
    "import os"
   ]
  },
  {
   "cell_type": "code",
   "execution_count": 35,
   "metadata": {
    "ExecuteTime": {
     "end_time": "2019-11-18T05:47:01.409500Z",
     "start_time": "2019-11-18T05:47:01.384500Z"
    }
   },
   "outputs": [
    {
     "name": "stdout",
     "output_type": "stream",
     "text": [
      "C:\\Users\\herdis.haerusalam\\Documents\\DSA\\iykra\\DAY_17\\exercise\\exercise_marketing\n",
      "['.git', '.ipynb_checkpoints', 'dataset', 'exercise_marketing.ipynb', 'README.md']\n",
      "('dataset', [], ['BreadBasket_DMS.csv', 'groceries - groceries.csv', 'groceries.csv'])\n"
     ]
    }
   ],
   "source": [
    "print(os.getcwd())\n",
    "print(os.listdir(os.getcwd()))\n",
    "print(next(os.walk('dataset')))"
   ]
  },
  {
   "cell_type": "code",
   "execution_count": 36,
   "metadata": {
    "ExecuteTime": {
     "end_time": "2019-11-18T05:47:01.722000Z",
     "start_time": "2019-11-18T05:47:01.664500Z"
    }
   },
   "outputs": [
    {
     "data": {
      "text/html": [
       "<div>\n",
       "<style scoped>\n",
       "    .dataframe tbody tr th:only-of-type {\n",
       "        vertical-align: middle;\n",
       "    }\n",
       "\n",
       "    .dataframe tbody tr th {\n",
       "        vertical-align: top;\n",
       "    }\n",
       "\n",
       "    .dataframe thead th {\n",
       "        text-align: right;\n",
       "    }\n",
       "</style>\n",
       "<table border=\"1\" class=\"dataframe\">\n",
       "  <thead>\n",
       "    <tr style=\"text-align: right;\">\n",
       "      <th></th>\n",
       "      <th>Date</th>\n",
       "      <th>Time</th>\n",
       "      <th>Transaction</th>\n",
       "      <th>Item</th>\n",
       "    </tr>\n",
       "  </thead>\n",
       "  <tbody>\n",
       "    <tr>\n",
       "      <td>0</td>\n",
       "      <td>2016-10-30</td>\n",
       "      <td>09:58:11</td>\n",
       "      <td>1</td>\n",
       "      <td>Bread</td>\n",
       "    </tr>\n",
       "    <tr>\n",
       "      <td>1</td>\n",
       "      <td>2016-10-30</td>\n",
       "      <td>10:05:34</td>\n",
       "      <td>2</td>\n",
       "      <td>Scandinavian</td>\n",
       "    </tr>\n",
       "    <tr>\n",
       "      <td>2</td>\n",
       "      <td>2016-10-30</td>\n",
       "      <td>10:05:34</td>\n",
       "      <td>2</td>\n",
       "      <td>Scandinavian</td>\n",
       "    </tr>\n",
       "    <tr>\n",
       "      <td>3</td>\n",
       "      <td>2016-10-30</td>\n",
       "      <td>10:07:57</td>\n",
       "      <td>3</td>\n",
       "      <td>Hot chocolate</td>\n",
       "    </tr>\n",
       "    <tr>\n",
       "      <td>4</td>\n",
       "      <td>2016-10-30</td>\n",
       "      <td>10:07:57</td>\n",
       "      <td>3</td>\n",
       "      <td>Jam</td>\n",
       "    </tr>\n",
       "  </tbody>\n",
       "</table>\n",
       "</div>"
      ],
      "text/plain": [
       "         Date      Time  Transaction           Item\n",
       "0  2016-10-30  09:58:11            1          Bread\n",
       "1  2016-10-30  10:05:34            2   Scandinavian\n",
       "2  2016-10-30  10:05:34            2   Scandinavian\n",
       "3  2016-10-30  10:07:57            3  Hot chocolate\n",
       "4  2016-10-30  10:07:57            3            Jam"
      ]
     },
     "execution_count": 36,
     "metadata": {},
     "output_type": "execute_result"
    }
   ],
   "source": [
    "# load dataset\n",
    "df = pd.read_csv('dataset/BreadBasket_DMS.csv')\n",
    "df.head(5)"
   ]
  },
  {
   "cell_type": "code",
   "execution_count": 37,
   "metadata": {
    "ExecuteTime": {
     "end_time": "2019-11-18T05:47:02.072000Z",
     "start_time": "2019-11-18T05:47:02.057000Z"
    }
   },
   "outputs": [
    {
     "data": {
      "text/plain": [
       "(21293, 4)"
      ]
     },
     "execution_count": 37,
     "metadata": {},
     "output_type": "execute_result"
    }
   ],
   "source": [
    "# looking for datashape\n",
    "df.shape"
   ]
  },
  {
   "cell_type": "code",
   "execution_count": 38,
   "metadata": {
    "ExecuteTime": {
     "end_time": "2019-11-18T05:47:02.891500Z",
     "start_time": "2019-11-18T05:47:02.709000Z"
    }
   },
   "outputs": [
    {
     "data": {
      "image/png": "[encoded data removed]",
      "text/plain": [
       "<Figure size 864x432 with 1 Axes>"
      ]
     },
     "metadata": {
      "needs_background": "light"
     },
     "output_type": "display_data"
    }
   ],
   "source": [
    "# what the interesting things from data\n",
    "items = df['Item'].value_counts().index\n",
    "item_frequency = df['Item'].value_counts().values\n",
    "\n",
    "plt.figure(figsize=(12,6))\n",
    "plt.xlabel('Items', fontsize='15')\n",
    "plt.ylabel('Frequency', fontsize='15')\n",
    "plt.title('Top 5 Selling Items', fontsize='15')\n",
    "plt.bar(items[:5],item_frequency[:5], width = 0.7, color=\"tab:blue\",linewidth=0.4)\n",
    "plt.show()"
   ]
  },
  {
   "cell_type": "markdown",
   "metadata": {},
   "source": [
    "It seems like coffee are the most frequent in dataset."
   ]
  },
  {
   "cell_type": "code",
   "execution_count": 39,
   "metadata": {
    "ExecuteTime": {
     "end_time": "2019-11-18T05:47:03.529000Z",
     "start_time": "2019-11-18T05:47:03.086500Z"
    }
   },
   "outputs": [],
   "source": [
    "df2 = df.groupby(['Transaction','Item']).size().reset_index(name='count')\n",
    "basket = (df2.groupby(['Transaction', 'Item'])['count']\n",
    "          .sum().unstack().reset_index().fillna(0)\n",
    "          .set_index('Transaction'))\n",
    "#The encoding function\n",
    "def encode_units(x):\n",
    "    if x <= 0:\n",
    "        return 0\n",
    "    if x >= 1:\n",
    "        return 1\n",
    "basket_sets = basket.applymap(encode_units)"
   ]
  },
  {
   "cell_type": "code",
   "execution_count": 40,
   "metadata": {
    "ExecuteTime": {
     "end_time": "2019-11-18T05:47:03.864000Z",
     "start_time": "2019-11-18T05:47:03.681500Z"
    }
   },
   "outputs": [
    {
     "data": {
      "text/html": [
       "<div>\n",
       "<style scoped>\n",
       "    .dataframe tbody tr th:only-of-type {\n",
       "        vertical-align: middle;\n",
       "    }\n",
       "\n",
       "    .dataframe tbody tr th {\n",
       "        vertical-align: top;\n",
       "    }\n",
       "\n",
       "    .dataframe thead th {\n",
       "        text-align: right;\n",
       "    }\n",
       "</style>\n",
       "<table border=\"1\" class=\"dataframe\">\n",
       "  <thead>\n",
       "    <tr style=\"text-align: right;\">\n",
       "      <th></th>\n",
       "      <th>antecedents</th>\n",
       "      <th>consequents</th>\n",
       "      <th>antecedent support</th>\n",
       "      <th>consequent support</th>\n",
       "      <th>support</th>\n",
       "      <th>confidence</th>\n",
       "      <th>lift</th>\n",
       "      <th>leverage</th>\n",
       "      <th>conviction</th>\n",
       "    </tr>\n",
       "  </thead>\n",
       "  <tbody>\n",
       "    <tr>\n",
       "      <td>45</td>\n",
       "      <td>(Toast)</td>\n",
       "      <td>(Coffee)</td>\n",
       "      <td>0.033365</td>\n",
       "      <td>0.475081</td>\n",
       "      <td>0.023502</td>\n",
       "      <td>0.704403</td>\n",
       "      <td>1.482699</td>\n",
       "      <td>0.007651</td>\n",
       "      <td>1.775789</td>\n",
       "    </tr>\n",
       "    <tr>\n",
       "      <td>42</td>\n",
       "      <td>(Spanish Brunch)</td>\n",
       "      <td>(Coffee)</td>\n",
       "      <td>0.018046</td>\n",
       "      <td>0.475081</td>\n",
       "      <td>0.010807</td>\n",
       "      <td>0.598837</td>\n",
       "      <td>1.260494</td>\n",
       "      <td>0.002233</td>\n",
       "      <td>1.308493</td>\n",
       "    </tr>\n",
       "    <tr>\n",
       "      <td>29</td>\n",
       "      <td>(Medialuna)</td>\n",
       "      <td>(Coffee)</td>\n",
       "      <td>0.061379</td>\n",
       "      <td>0.475081</td>\n",
       "      <td>0.034939</td>\n",
       "      <td>0.569231</td>\n",
       "      <td>1.198175</td>\n",
       "      <td>0.005779</td>\n",
       "      <td>1.218561</td>\n",
       "    </tr>\n",
       "    <tr>\n",
       "      <td>34</td>\n",
       "      <td>(Pastry)</td>\n",
       "      <td>(Coffee)</td>\n",
       "      <td>0.085510</td>\n",
       "      <td>0.475081</td>\n",
       "      <td>0.047214</td>\n",
       "      <td>0.552147</td>\n",
       "      <td>1.162216</td>\n",
       "      <td>0.006590</td>\n",
       "      <td>1.172079</td>\n",
       "    </tr>\n",
       "    <tr>\n",
       "      <td>3</td>\n",
       "      <td>(Alfajores)</td>\n",
       "      <td>(Coffee)</td>\n",
       "      <td>0.036093</td>\n",
       "      <td>0.475081</td>\n",
       "      <td>0.019515</td>\n",
       "      <td>0.540698</td>\n",
       "      <td>1.138116</td>\n",
       "      <td>0.002368</td>\n",
       "      <td>1.142861</td>\n",
       "    </tr>\n",
       "    <tr>\n",
       "      <td>26</td>\n",
       "      <td>(Juice)</td>\n",
       "      <td>(Coffee)</td>\n",
       "      <td>0.038296</td>\n",
       "      <td>0.475081</td>\n",
       "      <td>0.020460</td>\n",
       "      <td>0.534247</td>\n",
       "      <td>1.124537</td>\n",
       "      <td>0.002266</td>\n",
       "      <td>1.127031</td>\n",
       "    </tr>\n",
       "    <tr>\n",
       "      <td>33</td>\n",
       "      <td>(NONE)</td>\n",
       "      <td>(Coffee)</td>\n",
       "      <td>0.079005</td>\n",
       "      <td>0.475081</td>\n",
       "      <td>0.042073</td>\n",
       "      <td>0.532537</td>\n",
       "      <td>1.120938</td>\n",
       "      <td>0.004539</td>\n",
       "      <td>1.122908</td>\n",
       "    </tr>\n",
       "    <tr>\n",
       "      <td>36</td>\n",
       "      <td>(Sandwich)</td>\n",
       "      <td>(Coffee)</td>\n",
       "      <td>0.071346</td>\n",
       "      <td>0.475081</td>\n",
       "      <td>0.037981</td>\n",
       "      <td>0.532353</td>\n",
       "      <td>1.120551</td>\n",
       "      <td>0.004086</td>\n",
       "      <td>1.122468</td>\n",
       "    </tr>\n",
       "    <tr>\n",
       "      <td>17</td>\n",
       "      <td>(Cake)</td>\n",
       "      <td>(Coffee)</td>\n",
       "      <td>0.103137</td>\n",
       "      <td>0.475081</td>\n",
       "      <td>0.054349</td>\n",
       "      <td>0.526958</td>\n",
       "      <td>1.109196</td>\n",
       "      <td>0.005350</td>\n",
       "      <td>1.109667</td>\n",
       "    </tr>\n",
       "    <tr>\n",
       "      <td>39</td>\n",
       "      <td>(Scone)</td>\n",
       "      <td>(Coffee)</td>\n",
       "      <td>0.034309</td>\n",
       "      <td>0.475081</td>\n",
       "      <td>0.017941</td>\n",
       "      <td>0.522936</td>\n",
       "      <td>1.100729</td>\n",
       "      <td>0.001642</td>\n",
       "      <td>1.100310</td>\n",
       "    </tr>\n",
       "  </tbody>\n",
       "</table>\n",
       "</div>"
      ],
      "text/plain": [
       "         antecedents consequents  antecedent support  consequent support  \\\n",
       "45           (Toast)    (Coffee)            0.033365            0.475081   \n",
       "42  (Spanish Brunch)    (Coffee)            0.018046            0.475081   \n",
       "29       (Medialuna)    (Coffee)            0.061379            0.475081   \n",
       "34          (Pastry)    (Coffee)            0.085510            0.475081   \n",
       "3        (Alfajores)    (Coffee)            0.036093            0.475081   \n",
       "26           (Juice)    (Coffee)            0.038296            0.475081   \n",
       "33            (NONE)    (Coffee)            0.079005            0.475081   \n",
       "36        (Sandwich)    (Coffee)            0.071346            0.475081   \n",
       "17            (Cake)    (Coffee)            0.103137            0.475081   \n",
       "39           (Scone)    (Coffee)            0.034309            0.475081   \n",
       "\n",
       "     support  confidence      lift  leverage  conviction  \n",
       "45  0.023502    0.704403  1.482699  0.007651    1.775789  \n",
       "42  0.010807    0.598837  1.260494  0.002233    1.308493  \n",
       "29  0.034939    0.569231  1.198175  0.005779    1.218561  \n",
       "34  0.047214    0.552147  1.162216  0.006590    1.172079  \n",
       "3   0.019515    0.540698  1.138116  0.002368    1.142861  \n",
       "26  0.020460    0.534247  1.124537  0.002266    1.127031  \n",
       "33  0.042073    0.532537  1.120938  0.004539    1.122908  \n",
       "36  0.037981    0.532353  1.120551  0.004086    1.122468  \n",
       "17  0.054349    0.526958  1.109196  0.005350    1.109667  \n",
       "39  0.017941    0.522936  1.100729  0.001642    1.100310  "
      ]
     },
     "execution_count": 40,
     "metadata": {},
     "output_type": "execute_result"
    }
   ],
   "source": [
    "frequent_itemsets = apriori(basket_sets, min_support=0.01, use_colnames=True)\n",
    "rules = association_rules(frequent_itemsets, metric=\"lift\")\n",
    "rules.sort_values('confidence', ascending = False, inplace = True)\n",
    "rules.head(10)"
   ]
  },
  {
   "cell_type": "code",
   "execution_count": null,
   "metadata": {},
   "outputs": [],
   "source": []
  },
  {
   "cell_type": "code",
   "execution_count": null,
   "metadata": {},
   "outputs": [],
   "source": []
  },
  {
   "cell_type": "markdown",
   "metadata": {},
   "source": [
    "<div class=\"alert alert-warning\">\n",
    "\n",
    " <ul>\n",
    "  <li>How does the survival rate of the passengers differ between sexes?</li>\n",
    "</ul> \n",
    "\n",
    "</div>"
   ]
  },
  {
   "cell_type": "markdown",
   "metadata": {},
   "source": [
    "<div class=\"alert alert-info\">\n",
    "\n",
    "__NumPy__ provides\n",
    "\n",
    "  <ul>\n",
    "    <li>multi-dimensional, homogeneously typed arrays  (single data type!)</li>\n",
    "  </ul> \n",
    "<br>\n",
    "\n",
    "__Pandas__ provides\n",
    "\n",
    "  <ul>\n",
    "    <li>2D, heterogeneous data structure (multiple data types!)</li>\n",
    "    <li>labeled (named) row and column index</li>\n",
    "  </ul> \n",
    "\n",
    "\n",
    "</div>"
   ]
  },
  {
   "cell_type": "markdown",
   "metadata": {},
   "source": [
    "<div class=\"alert alert-success\">\n",
    "    <b>EXERCISE</b>:\n",
    "\n",
    "<ul>\n",
    "    <li>You can play with the `kind` keyword of the `plot` function in the figure above: 'line', 'bar', 'hist', 'density', 'area', 'pie', 'scatter', 'hexbin', 'box'</li>\n",
    "</ul>\n",
    "</div>"
   ]
  },
  {
   "cell_type": "code",
   "execution_count": null,
   "metadata": {},
   "outputs": [],
   "source": []
  }
 ],
 "metadata": {
  "kernelspec": {
   "display_name": "Python 3",
   "language": "python",
   "name": "python3"
  },
  "language_info": {
   "codemirror_mode": {
    "name": "ipython",
    "version": 3
   },
   "file_extension": ".py",
   "mimetype": "text/x-python",
   "name": "python",
   "nbconvert_exporter": "python",
   "pygments_lexer": "ipython3",
   "version": "3.7.4"
  },
  "toc": {
   "base_numbering": 1,
   "nav_menu": {},
   "number_sections": true,
   "sideBar": true,
   "skip_h1_title": false,
   "title_cell": "Table of Contents",
   "title_sidebar": "Contents",
   "toc_cell": false,
   "toc_position": {},
   "toc_section_display": true,
   "toc_window_display": false
  }
 },
 "nbformat": 4,
 "nbformat_minor": 2
}
